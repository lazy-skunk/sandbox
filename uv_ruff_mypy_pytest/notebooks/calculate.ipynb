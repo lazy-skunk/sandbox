{
 "cells": [
  {
   "cell_type": "code",
   "execution_count": null,
   "id": "488413d5",
   "metadata": {},
   "outputs": [],
   "source": [
    "from collections.abc import Iterable\n",
    "\n",
    "\n",
    "def sum_even_numbers(numbers: Iterable[int]) -> int:\n",
    "    \"\"\"Given an iterable of integers, return the sum of all even numbers in the iterable.\"\"\"  # noqa: E501\n",
    "    return sum(num for num in numbers if num % 2 == 0)\n",
    "\n",
    "\n",
    "print(sum_even_numbers([1, 2, 3, 4, 5]))"
   ]
  }
 ],
 "metadata": {
  "kernelspec": {
   "display_name": "Python 3",
   "language": "python",
   "name": "python3"
  },
  "language_info": {
   "codemirror_mode": {
    "name": "ipython",
    "version": 3
   },
   "file_extension": ".py",
   "mimetype": "text/x-python",
   "name": "python",
   "nbconvert_exporter": "python",
   "pygments_lexer": "ipython3",
   "version": "3.13.5"
  }
 },
 "nbformat": 4,
 "nbformat_minor": 5
}
