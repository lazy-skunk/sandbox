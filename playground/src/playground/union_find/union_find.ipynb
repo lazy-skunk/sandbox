{
 "cells": [
  {
   "cell_type": "code",
   "execution_count": null,
   "id": "6346abea-58fa-4fae-87c7-15a5ebc48eac",
   "metadata": {},
   "outputs": [],
   "source": [
    "import matplotlib.pyplot as plt\n",
    "import networkx as nx\n",
    "\n",
    "\n",
    "class UnionFind:\n",
    "    def __init__(self, size: int):\n",
    "        self.parent = list(range(size))\n",
    "        self.rank = [0] * size\n",
    "        self.count = size\n",
    "\n",
    "    def _find(self, x: int) -> int:\n",
    "        if self.parent[x] != x:\n",
    "            self.parent[x] = self._find(self.parent[x])\n",
    "        return self.parent[x]\n",
    "\n",
    "    def union(self, x: int, y: int) -> None:\n",
    "        root_x = self._find(x)\n",
    "        root_y = self._find(y)\n",
    "\n",
    "        if root_x != root_y:\n",
    "            if self.rank[root_x] > self.rank[root_y]:\n",
    "                self.parent[root_y] = root_x\n",
    "            elif self.rank[root_x] < self.rank[root_y]:\n",
    "                self.parent[root_x] = root_y\n",
    "            else:\n",
    "                self.parent[root_y] = root_x\n",
    "                self.rank[root_x] += 1\n",
    "            self.count -= 1\n",
    "\n",
    "    def get_count(self) -> int:\n",
    "        return self.count\n",
    "\n",
    "    def plot_network(self) -> None:\n",
    "        G = nx.Graph()\n",
    "        for i in range(len(self.parent)):\n",
    "            if self.parent[i] != i:\n",
    "                G.add_edge(i, self.parent[i])\n",
    "\n",
    "        for i in range(len(self.parent)):\n",
    "            if self.parent[i] == i:\n",
    "                G.add_node(i)\n",
    "\n",
    "        pos = nx.spring_layout(G, k=5, iterations=500)\n",
    "        nx.draw(\n",
    "            G,\n",
    "            pos,\n",
    "            with_labels=True,\n",
    "            node_size=700,\n",
    "            node_color=\"lightblue\",\n",
    "            font_size=12,\n",
    "        )\n",
    "        plt.show()"
   ]
  },
  {
   "cell_type": "code",
   "execution_count": null,
   "id": "ffae1d61",
   "metadata": {},
   "outputs": [],
   "source": [
    "def test_union_find(uf: UnionFind, x: int, y: int) -> None:\n",
    "    uf.union(x, y)\n",
    "    print(f\"Current rank: {uf.rank}\")\n",
    "    print(f\"Current parent: {uf.parent}\")\n",
    "    print(f\"Current count: {uf.count}\")\n",
    "    uf.plot_network()"
   ]
  },
  {
   "cell_type": "code",
   "execution_count": null,
   "id": "0d9ba327",
   "metadata": {},
   "outputs": [],
   "source": [
    "uf = UnionFind(10)"
   ]
  },
  {
   "cell_type": "code",
   "execution_count": null,
   "id": "56d03bed",
   "metadata": {},
   "outputs": [],
   "source": [
    "test_union_find(uf, 0, 1)"
   ]
  },
  {
   "cell_type": "code",
   "execution_count": null,
   "id": "9da2fb5f",
   "metadata": {},
   "outputs": [],
   "source": [
    "test_union_find(uf, 1, 2)"
   ]
  },
  {
   "cell_type": "code",
   "execution_count": null,
   "id": "943e92e6",
   "metadata": {},
   "outputs": [],
   "source": [
    "test_union_find(uf, 3, 4)"
   ]
  },
  {
   "cell_type": "code",
   "execution_count": null,
   "id": "83744975",
   "metadata": {},
   "outputs": [],
   "source": [
    "test_union_find(uf, 0, 4)"
   ]
  },
  {
   "cell_type": "code",
   "execution_count": null,
   "id": "98af348f",
   "metadata": {},
   "outputs": [],
   "source": [
    "test_union_find(uf, 0, 5)"
   ]
  },
  {
   "cell_type": "code",
   "execution_count": null,
   "id": "507bf0c7",
   "metadata": {},
   "outputs": [],
   "source": [
    "test_union_find(uf, 6, 7)"
   ]
  },
  {
   "cell_type": "code",
   "execution_count": null,
   "id": "74fac78d",
   "metadata": {},
   "outputs": [],
   "source": [
    "test_union_find(uf, 8, 9)"
   ]
  },
  {
   "cell_type": "code",
   "execution_count": null,
   "id": "81c64536",
   "metadata": {},
   "outputs": [],
   "source": [
    "test_union_find(uf, 6, 8)"
   ]
  },
  {
   "cell_type": "code",
   "execution_count": null,
   "id": "e00357a2",
   "metadata": {},
   "outputs": [],
   "source": [
    "test_union_find(uf, 0, 9)"
   ]
  }
 ],
 "metadata": {
  "kernelspec": {
   "display_name": "sandbox-py3.13",
   "language": "python",
   "name": "python3"
  },
  "language_info": {
   "codemirror_mode": {
    "name": "ipython",
    "version": 3
   },
   "file_extension": ".py",
   "mimetype": "text/x-python",
   "name": "python",
   "nbconvert_exporter": "python",
   "pygments_lexer": "ipython3",
   "version": "3.13.5"
  }
 },
 "nbformat": 4,
 "nbformat_minor": 5
}
