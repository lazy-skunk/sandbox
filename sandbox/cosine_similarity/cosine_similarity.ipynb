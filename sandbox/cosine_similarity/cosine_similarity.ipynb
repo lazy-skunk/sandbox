{
 "cells": [
  {
   "cell_type": "markdown",
   "metadata": {},
   "source": [
    "# お勉強\n",
    "Bag of Words (BoW) モデルを使ってテキストデータを数値ベクトルに変換する方法と、コサイン類似度を計測する方法を整理してみました。  \n",
    "慣れるまで略さない方が良い気がするので、長いけど Bag of Words って表現しています。  \n",
    "コードでも意図的に省略しないようにしているので、冗長だと感じることがあると思います。\n",
    "\n",
    "## Bag of Words とは？  \n",
    "Bag of Words モデルは、テキストデータを数値ベクトルに変換するための手法の一つみたいです。  \n",
    "各文書を単語の出現頻度で表現し、文書内の単語の順序や文法構造は無視するっぽいです。  \n",
    "\n",
    "## コサイン類似度とは？  \n",
    "コサイン類似度は、二つのベクトルの間の角度を基に類似度を計算する指標で、特にテキストデータの類似度を計算するのに有効らしいです。  \n",
    "コサイン類似度は -1 から 1 までの値を取り、1 に近いほど類似度が高いことを示します。\n",
    "  \n",
    "## 1. セットアップ  \n",
    "必要なライブラリをインポートします。"
   ]
  },
  {
   "cell_type": "code",
   "execution_count": null,
   "metadata": {},
   "outputs": [],
   "source": [
    "from sklearn.feature_extraction.text import CountVectorizer\n",
    "from sklearn.metrics.pairwise import cosine_similarity\n",
    "import pandas as pd"
   ]
  },
  {
   "cell_type": "markdown",
   "metadata": {},
   "source": [
    "## 2. データの準備  \n",
    "サンプルデータを用意します。  \n",
    "自分の好きなように適当にいじってみるとよりわかりやすくなるかもです。"
   ]
  },
  {
   "cell_type": "code",
   "execution_count": null,
   "metadata": {},
   "outputs": [],
   "source": [
    "sample_log1 = \"This is the first log\"\n",
    "sample_log2 = \"This is the second log\"\n",
    "sample_log3 = \"Pen pineapple apple pen\"\n",
    "\n",
    "sample_logs = [sample_log1, sample_log2, sample_log3]"
   ]
  },
  {
   "cell_type": "markdown",
   "metadata": {},
   "source": [
    "## 3. Bag of Words モデルの作成  \n",
    "CountVectorizer を使って、ログデータを Bag of Words ベクトルに変換します。"
   ]
  },
  {
   "cell_type": "code",
   "execution_count": null,
   "metadata": {},
   "outputs": [],
   "source": [
    "count_vectorizer = CountVectorizer()\n",
    "bag_of_words_matrix = count_vectorizer.fit_transform(sample_logs)"
   ]
  },
  {
   "cell_type": "markdown",
   "metadata": {},
   "source": [
    "## 4. 特徴単語の表示  \n",
    "BoW モデルによって抽出された特徴単語を表示します。"
   ]
  },
  {
   "cell_type": "code",
   "execution_count": null,
   "metadata": {},
   "outputs": [],
   "source": [
    "feature_names = count_vectorizer.get_feature_names_out()\n",
    "feature_names"
   ]
  },
  {
   "cell_type": "markdown",
   "metadata": {},
   "source": [
    "## 5. BoW ベクトルの表示  \n",
    "BoW 行列をデータフレームに変換し、各単語の出現回数を表示してみます。  \n",
    "データフレームへの変換は見やすくする目的しかないです。"
   ]
  },
  {
   "cell_type": "code",
   "execution_count": null,
   "metadata": {},
   "outputs": [],
   "source": [
    "bag_of_words_data_frame = pd.DataFrame(\n",
    "    bag_of_words_matrix.toarray(),\n",
    "    columns=feature_names,\n",
    "    index=[\"log1\", \"log2\", \"log3\"],\n",
    ")\n",
    "bag_of_words_data_frame"
   ]
  },
  {
   "cell_type": "markdown",
   "metadata": {},
   "source": [
    "## 6. コサイン類似度の計算  \n",
    "各データ間のコサイン類似度を計算し、類似度行列を表示します。  \n",
    "結果からもわかるように、データの1, 2はめっちゃ似ていますが、3番目のデータは明後日の方向を向いた内容なので類似度が低いですね。"
   ]
  },
  {
   "cell_type": "code",
   "execution_count": null,
   "metadata": {},
   "outputs": [],
   "source": [
    "cosine_similarity = cosine_similarity(bag_of_words_matrix)\n",
    "\n",
    "similarity_data_frame = pd.DataFrame(\n",
    "    cosine_similarity,\n",
    "    index=[\"log1\", \"log2\", \"log3\"],\n",
    "    columns=[\"log1\", \"log2\", \"log3\"],\n",
    ")\n",
    "similarity_data_frame"
   ]
  }
 ],
 "metadata": {
  "kernelspec": {
   "display_name": "Python 3 (ipykernel)",
   "language": "python",
   "name": "python3"
  },
  "language_info": {
   "codemirror_mode": {
    "name": "ipython",
    "version": 3
   },
   "file_extension": ".py",
   "mimetype": "text/x-python",
   "name": "python",
   "nbconvert_exporter": "python",
   "pygments_lexer": "ipython3",
   "version": "3.12.4"
  }
 },
 "nbformat": 4,
 "nbformat_minor": 4
}
